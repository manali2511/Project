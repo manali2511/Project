{
  "nbformat": 4,
  "nbformat_minor": 0,
  "metadata": {
    "colab": {
      "provenance": [],
      "authorship_tag": "ABX9TyMI1hIehXskT480Dz28CeMa",
      "include_colab_link": true
    },
    "kernelspec": {
      "name": "python3",
      "display_name": "Python 3"
    },
    "language_info": {
      "name": "python"
    }
  },
  "cells": [
    {
      "cell_type": "markdown",
      "metadata": {
        "id": "view-in-github",
        "colab_type": "text"
      },
      "source": [
        "<a href=\"https://colab.research.google.com/github/manali2511/Project/blob/main/Copy_of_Practical1.ipynb\" target=\"_parent\"><img src=\"https://colab.research.google.com/assets/colab-badge.svg\" alt=\"Open In Colab\"/></a>"
      ]
    },
    {
      "cell_type": "code",
      "execution_count": null,
      "metadata": {
        "colab": {
          "base_uri": "https://localhost:8080/",
          "height": 110
        },
        "id": "7qOSfC1g38Zk",
        "outputId": "f98bcd6e-771a-4f05-e381-662a8d1819b0"
      },
      "outputs": [
        {
          "output_type": "display_data",
          "data": {
            "text/plain": [
              "<IPython.core.display.HTML object>"
            ],
            "text/html": [
              "\n",
              "     <input type=\"file\" id=\"files-e883f835-6c8d-4647-b855-7e6e77613339\" name=\"files[]\" multiple disabled\n",
              "        style=\"border:none\" />\n",
              "     <output id=\"result-e883f835-6c8d-4647-b855-7e6e77613339\">\n",
              "      Upload widget is only available when the cell has been executed in the\n",
              "      current browser session. Please rerun this cell to enable.\n",
              "      </output>\n",
              "      <script>// Copyright 2017 Google LLC\n",
              "//\n",
              "// Licensed under the Apache License, Version 2.0 (the \"License\");\n",
              "// you may not use this file except in compliance with the License.\n",
              "// You may obtain a copy of the License at\n",
              "//\n",
              "//      http://www.apache.org/licenses/LICENSE-2.0\n",
              "//\n",
              "// Unless required by applicable law or agreed to in writing, software\n",
              "// distributed under the License is distributed on an \"AS IS\" BASIS,\n",
              "// WITHOUT WARRANTIES OR CONDITIONS OF ANY KIND, either express or implied.\n",
              "// See the License for the specific language governing permissions and\n",
              "// limitations under the License.\n",
              "\n",
              "/**\n",
              " * @fileoverview Helpers for google.colab Python module.\n",
              " */\n",
              "(function(scope) {\n",
              "function span(text, styleAttributes = {}) {\n",
              "  const element = document.createElement('span');\n",
              "  element.textContent = text;\n",
              "  for (const key of Object.keys(styleAttributes)) {\n",
              "    element.style[key] = styleAttributes[key];\n",
              "  }\n",
              "  return element;\n",
              "}\n",
              "\n",
              "// Max number of bytes which will be uploaded at a time.\n",
              "const MAX_PAYLOAD_SIZE = 100 * 1024;\n",
              "\n",
              "function _uploadFiles(inputId, outputId) {\n",
              "  const steps = uploadFilesStep(inputId, outputId);\n",
              "  const outputElement = document.getElementById(outputId);\n",
              "  // Cache steps on the outputElement to make it available for the next call\n",
              "  // to uploadFilesContinue from Python.\n",
              "  outputElement.steps = steps;\n",
              "\n",
              "  return _uploadFilesContinue(outputId);\n",
              "}\n",
              "\n",
              "// This is roughly an async generator (not supported in the browser yet),\n",
              "// where there are multiple asynchronous steps and the Python side is going\n",
              "// to poll for completion of each step.\n",
              "// This uses a Promise to block the python side on completion of each step,\n",
              "// then passes the result of the previous step as the input to the next step.\n",
              "function _uploadFilesContinue(outputId) {\n",
              "  const outputElement = document.getElementById(outputId);\n",
              "  const steps = outputElement.steps;\n",
              "\n",
              "  const next = steps.next(outputElement.lastPromiseValue);\n",
              "  return Promise.resolve(next.value.promise).then((value) => {\n",
              "    // Cache the last promise value to make it available to the next\n",
              "    // step of the generator.\n",
              "    outputElement.lastPromiseValue = value;\n",
              "    return next.value.response;\n",
              "  });\n",
              "}\n",
              "\n",
              "/**\n",
              " * Generator function which is called between each async step of the upload\n",
              " * process.\n",
              " * @param {string} inputId Element ID of the input file picker element.\n",
              " * @param {string} outputId Element ID of the output display.\n",
              " * @return {!Iterable<!Object>} Iterable of next steps.\n",
              " */\n",
              "function* uploadFilesStep(inputId, outputId) {\n",
              "  const inputElement = document.getElementById(inputId);\n",
              "  inputElement.disabled = false;\n",
              "\n",
              "  const outputElement = document.getElementById(outputId);\n",
              "  outputElement.innerHTML = '';\n",
              "\n",
              "  const pickedPromise = new Promise((resolve) => {\n",
              "    inputElement.addEventListener('change', (e) => {\n",
              "      resolve(e.target.files);\n",
              "    });\n",
              "  });\n",
              "\n",
              "  const cancel = document.createElement('button');\n",
              "  inputElement.parentElement.appendChild(cancel);\n",
              "  cancel.textContent = 'Cancel upload';\n",
              "  const cancelPromise = new Promise((resolve) => {\n",
              "    cancel.onclick = () => {\n",
              "      resolve(null);\n",
              "    };\n",
              "  });\n",
              "\n",
              "  // Wait for the user to pick the files.\n",
              "  const files = yield {\n",
              "    promise: Promise.race([pickedPromise, cancelPromise]),\n",
              "    response: {\n",
              "      action: 'starting',\n",
              "    }\n",
              "  };\n",
              "\n",
              "  cancel.remove();\n",
              "\n",
              "  // Disable the input element since further picks are not allowed.\n",
              "  inputElement.disabled = true;\n",
              "\n",
              "  if (!files) {\n",
              "    return {\n",
              "      response: {\n",
              "        action: 'complete',\n",
              "      }\n",
              "    };\n",
              "  }\n",
              "\n",
              "  for (const file of files) {\n",
              "    const li = document.createElement('li');\n",
              "    li.append(span(file.name, {fontWeight: 'bold'}));\n",
              "    li.append(span(\n",
              "        `(${file.type || 'n/a'}) - ${file.size} bytes, ` +\n",
              "        `last modified: ${\n",
              "            file.lastModifiedDate ? file.lastModifiedDate.toLocaleDateString() :\n",
              "                                    'n/a'} - `));\n",
              "    const percent = span('0% done');\n",
              "    li.appendChild(percent);\n",
              "\n",
              "    outputElement.appendChild(li);\n",
              "\n",
              "    const fileDataPromise = new Promise((resolve) => {\n",
              "      const reader = new FileReader();\n",
              "      reader.onload = (e) => {\n",
              "        resolve(e.target.result);\n",
              "      };\n",
              "      reader.readAsArrayBuffer(file);\n",
              "    });\n",
              "    // Wait for the data to be ready.\n",
              "    let fileData = yield {\n",
              "      promise: fileDataPromise,\n",
              "      response: {\n",
              "        action: 'continue',\n",
              "      }\n",
              "    };\n",
              "\n",
              "    // Use a chunked sending to avoid message size limits. See b/62115660.\n",
              "    let position = 0;\n",
              "    do {\n",
              "      const length = Math.min(fileData.byteLength - position, MAX_PAYLOAD_SIZE);\n",
              "      const chunk = new Uint8Array(fileData, position, length);\n",
              "      position += length;\n",
              "\n",
              "      const base64 = btoa(String.fromCharCode.apply(null, chunk));\n",
              "      yield {\n",
              "        response: {\n",
              "          action: 'append',\n",
              "          file: file.name,\n",
              "          data: base64,\n",
              "        },\n",
              "      };\n",
              "\n",
              "      let percentDone = fileData.byteLength === 0 ?\n",
              "          100 :\n",
              "          Math.round((position / fileData.byteLength) * 100);\n",
              "      percent.textContent = `${percentDone}% done`;\n",
              "\n",
              "    } while (position < fileData.byteLength);\n",
              "  }\n",
              "\n",
              "  // All done.\n",
              "  yield {\n",
              "    response: {\n",
              "      action: 'complete',\n",
              "    }\n",
              "  };\n",
              "}\n",
              "\n",
              "scope.google = scope.google || {};\n",
              "scope.google.colab = scope.google.colab || {};\n",
              "scope.google.colab._files = {\n",
              "  _uploadFiles,\n",
              "  _uploadFilesContinue,\n",
              "};\n",
              "})(self);\n",
              "</script> "
            ]
          },
          "metadata": {}
        },
        {
          "output_type": "stream",
          "name": "stdout",
          "text": [
            "Saving BodyFat - Extended.csv to BodyFat - Extended.csv\n"
          ]
        }
      ],
      "source": [
        "from google.colab import files\n",
        "\n",
        "uploaded = files.upload()"
      ]
    },
    {
      "cell_type": "code",
      "source": [
        "import pandas as pd\n",
        "import numpy as np\n",
        "import matplotlib.pyplot as plt\n",
        "import seaborn as sns"
      ],
      "metadata": {
        "id": "ND256--_4evk"
      },
      "execution_count": null,
      "outputs": []
    },
    {
      "cell_type": "code",
      "source": [
        "df = pd.read_csv(\"BodyFat - Extended.csv\")"
      ],
      "metadata": {
        "id": "gafycBfP4h8-"
      },
      "execution_count": null,
      "outputs": []
    },
    {
      "cell_type": "code",
      "source": [
        "print(\"First 10 rows:\")\n",
        "print(df.head(10))\n",
        "\n",
        "print(\"\\nLast 10 rows:\")\n",
        "print(df.tail(10))\n",
        "\n",
        "print(\"\\n20 Random rows:\")\n",
        "print(df.sample(20))"
      ],
      "metadata": {
        "colab": {
          "base_uri": "https://localhost:8080/"
        },
        "id": "sYPaX3Dd42cw",
        "outputId": "828505da-3224-4db7-df7f-66a8e108b4e1"
      },
      "execution_count": null,
      "outputs": [
        {
          "output_type": "stream",
          "name": "stdout",
          "text": [
            "First 10 rows:\n",
            "   BodyFat Original Sex  Age  Weight  Height  Neck  Chest  Abdomen    Hip  \\\n",
            "0     12.3        Y   M   23   69.97    1.72  36.2   93.1     85.2   94.5   \n",
            "1      6.1        Y   M   22   78.59    1.84  38.5   93.6     83.0   98.7   \n",
            "2     25.3        Y   M   22   69.85    1.68  34.0   95.8     87.9   99.2   \n",
            "3     10.4        Y   M   26   83.80    1.84  37.4  101.8     86.4  101.2   \n",
            "4     28.7        Y   M   24   83.58    1.81  34.4   97.3    100.0  101.9   \n",
            "5     20.9        Y   M   24   95.37    1.90  39.0  104.5     94.4  107.8   \n",
            "6     19.2        Y   M   26   82.10    1.77  36.4  105.1     90.7  100.3   \n",
            "7     12.4        Y   M   25   79.83    1.84  37.8   99.6     88.5   97.1   \n",
            "8      4.1        Y   M   25   86.64    1.88  38.1  100.9     82.5   99.9   \n",
            "9     11.7        Y   M   23   89.93    1.87  42.1   99.6     88.6  104.1   \n",
            "\n",
            "   Thigh  Knee  Ankle  Biceps  Forearm  Wrist  \n",
            "0   59.0  37.3   21.9    32.0     27.4   17.1  \n",
            "1   58.7  37.3   23.4    30.5     28.9   18.2  \n",
            "2   59.6  38.9   24.0    28.8     25.2   16.6  \n",
            "3   60.1  37.3   22.8    32.4     29.4   18.2  \n",
            "4   63.2  42.2   24.0    32.2     27.7   17.7  \n",
            "5   66.0  42.0   25.6    35.7     30.6   18.8  \n",
            "6   58.4  38.3   22.9    31.9     27.8   17.7  \n",
            "7   60.0  39.4   23.2    30.5     29.0   18.8  \n",
            "8   62.9  38.3   23.8    35.9     31.1   18.2  \n",
            "9   63.1  41.7   25.0    35.6     30.0   19.2  \n",
            "\n",
            "Last 10 rows:\n",
            "     BodyFat Original Sex  Age   Weight  Height  Neck  Chest  Abdomen    Hip  \\\n",
            "426    23.44        N   F   22  57.1536  1.6256  33.0   85.0     70.0   94.5   \n",
            "427    25.94        N   F   20  67.1328  1.6764  32.0   88.0     75.5  102.0   \n",
            "428    13.64        N   F   19  55.7928  1.6129  31.0   85.0     67.5   94.7   \n",
            "429    26.65        N   F   18  61.2360  1.6383  32.5   89.0     76.0   98.0   \n",
            "430    15.83        N   F   23  59.8752  1.6256  31.5   83.0     70.0   97.0   \n",
            "431    30.40        N   F   23  59.8752  1.5621  31.3   89.0     71.0   98.5   \n",
            "432     7.47        N   F   21  48.5352  1.5748  29.5   79.0     62.5   89.0   \n",
            "433    11.98        N   F   20  51.7104  1.5748  31.5   81.5     61.5   90.0   \n",
            "434    11.24        N   F   22  50.8032  1.6510  30.5   85.0     64.0   88.0   \n",
            "435    17.49        N   F   24  47.6280  1.6002  26.0   79.3     63.0   86.6   \n",
            "\n",
            "     Thigh  Knee  Ankle  Biceps  Forearm  Wrist  \n",
            "426   50.5  37.0   20.0    28.0     24.5   16.0  \n",
            "427   58.0  40.0   21.0    31.7     25.0   16.0  \n",
            "428   52.0  34.5   20.3    26.0     23.3   15.5  \n",
            "429   50.0  37.0   20.0    27.5     23.7   15.5  \n",
            "430   54.5  36.0   21.0    26.0     23.0   14.5  \n",
            "431   56.0  36.2   21.0    28.0     24.5   16.3  \n",
            "432   49.0  33.0   20.0    25.0     22.0   15.5  \n",
            "433   49.5  32.0   19.5    27.5     22.5   15.0  \n",
            "434   45.0  32.0   19.5    24.0     21.5   15.0  \n",
            "435   46.0  33.5   19.0    24.0     21.5   14.0  \n",
            "\n",
            "20 Random rows:\n",
            "     BodyFat Original Sex  Age   Weight   Height  Neck  Chest  Abdomen    Hip  \\\n",
            "32     11.80        Y   M   27  76.2000  1.81000  38.1   93.0     79.1   94.5   \n",
            "404    25.02        N   F   21  48.0816  1.69418  30.0   76.0     64.0   93.0   \n",
            "128    20.80        Y   M   40  87.2000  1.86000  39.8  103.9     93.5   99.5   \n",
            "50     10.20        Y   M   47  71.7800  1.84000  34.9   90.2     86.7   98.3   \n",
            "412    27.84        N   F   20  55.3392  1.63830  31.0   81.0     66.0  100.3   \n",
            "150     9.40        Y   M   26  69.0600  1.75000  35.4   92.9     77.6   93.5   \n",
            "61     29.80        Y   M   56  81.0800  1.74000  35.6  102.9     94.7  100.8   \n",
            "292    21.30        N   F   21  63.0504  1.68910  29.8   82.0     69.5  102.5   \n",
            "427    25.94        N   F   20  67.1328  1.67640  32.0   88.0     75.5  102.0   \n",
            "130    18.10        Y   M   49  77.9100  1.82000  35.5   97.8     90.1   95.8   \n",
            "82     18.40        Y   M   64  86.3000  1.85000  39.3  103.1     97.8   99.6   \n",
            "349    20.87        N   F   19  60.7824  1.70180  33.5   86.0     70.0   97.0   \n",
            "252    23.07        N   F   22  49.4424  1.61290  28.8   76.1     62.8   90.2   \n",
            "265    14.93        N   F   18  53.9784  1.60020  30.5   86.0     66.4   92.3   \n",
            "25      3.70        Y   M   27  72.2400  1.82000  35.7   89.6     79.7   96.5   \n",
            "12     20.80        Y   M   32  81.8700  1.77000  38.4  102.0     91.6  103.9   \n",
            "212    19.50        Y   M   49  76.3200  1.82000  38.3   98.3     89.7   99.1   \n",
            "96      9.60        Y   M   38  85.6200  1.86000  37.5   99.1     91.6  102.4   \n",
            "107    18.30        Y   M   52  92.1900  1.89000  42.0  110.0    101.6  100.7   \n",
            "134    24.40        Y   M   41  76.3200  1.77000  36.5   98.4     87.2   98.4   \n",
            "\n",
            "     Thigh  Knee  Ankle  Biceps  Forearm  Wrist  \n",
            "32    57.3  36.2   24.5    29.0     30.0   18.8  \n",
            "404   44.0  33.5   20.0    23.0     20.0   14.0  \n",
            "128   61.7  39.0   21.8    33.3     29.6   18.1  \n",
            "50    52.6  37.2   22.4    26.0     25.8   17.3  \n",
            "412   55.5  36.0   21.0    24.5     22.0   15.3  \n",
            "150   56.9  35.9   20.4    31.6     29.0   17.8  \n",
            "61    60.9  38.0   22.1    32.5     29.8   18.3  \n",
            "292   52.5  38.0   22.5    27.0     24.0   15.5  \n",
            "427   58.0  40.0   21.0    31.7     25.0   16.0  \n",
            "130   57.0  38.7   23.2    27.5     26.5   17.6  \n",
            "82    58.9  39.0   23.0    34.3     29.6   19.0  \n",
            "349   54.3  35.5   20.5    28.0     24.2   16.0  \n",
            "252   49.2  33.0   19.7    25.0     21.0   15.0  \n",
            "265   48.5  35.0   20.0    24.5     21.6   15.6  \n",
            "25    55.0  36.7   22.5    29.9     28.2   17.7  \n",
            "12    63.4  38.3   21.5    32.5     28.6   17.7  \n",
            "212   56.3  38.8   23.0    29.5     27.9   18.6  \n",
            "96    60.6  39.4   22.9    31.6     30.1   18.5  \n",
            "107   55.8  38.7   23.4    35.1     29.6   19.1  \n",
            "134   56.0  36.9   23.0    34.0     29.8   18.1  \n"
          ]
        }
      ]
    },
    {
      "cell_type": "code",
      "source": [
        "print(\"\\nDataFrame Shape (rows, cols):\", df.shape)\n",
        "print(\"Total elements:\", df.size)\n",
        "print(\"Data types of each column:\\n\", df.dtypes)"
      ],
      "metadata": {
        "colab": {
          "base_uri": "https://localhost:8080/"
        },
        "id": "YgNjLAMV460w",
        "outputId": "d23c198c-4720-4d0b-f8b1-e4644563ced1"
      },
      "execution_count": null,
      "outputs": [
        {
          "output_type": "stream",
          "name": "stdout",
          "text": [
            "\n",
            "DataFrame Shape (rows, cols): (436, 16)\n",
            "Total elements: 6976\n",
            "Data types of each column:\n",
            " BodyFat     float64\n",
            "Original     object\n",
            "Sex          object\n",
            "Age           int64\n",
            "Weight      float64\n",
            "Height      float64\n",
            "Neck        float64\n",
            "Chest       float64\n",
            "Abdomen     float64\n",
            "Hip         float64\n",
            "Thigh       float64\n",
            "Knee        float64\n",
            "Ankle       float64\n",
            "Biceps      float64\n",
            "Forearm     float64\n",
            "Wrist       float64\n",
            "dtype: object\n"
          ]
        }
      ]
    },
    {
      "cell_type": "code",
      "source": [
        "print(\"\\nStatistical Summary:\")\n",
        "print(df.describe(include=\"all\"))\n",
        "\n",
        "print(\"\\nMedian values:\\n\", df.median(numeric_only=True))\n",
        "print(\"\\nStandard Deviation:\\n\", df.std(numeric_only=True))"
      ],
      "metadata": {
        "colab": {
          "base_uri": "https://localhost:8080/"
        },
        "id": "EIJrBbuO5DHJ",
        "outputId": "7c977fcd-b13d-4cbf-be57-9f8164795094"
      },
      "execution_count": null,
      "outputs": [
        {
          "output_type": "stream",
          "name": "stdout",
          "text": [
            "\n",
            "Statistical Summary:\n",
            "           BodyFat Original  Sex         Age      Weight      Height  \\\n",
            "count   436.000000      436  436  436.000000  436.000000  436.000000   \n",
            "unique         NaN        2    2         NaN         NaN         NaN   \n",
            "top            NaN        Y    M         NaN         NaN         NaN   \n",
            "freq           NaN      252  252         NaN         NaN         NaN   \n",
            "mean     20.249839      NaN  NaN   34.545872   72.282203    1.734048   \n",
            "std       7.502125      NaN  NaN   15.500099   15.464366    0.098359   \n",
            "min       0.000000      NaN  NaN    1.000000   42.184800    0.750000   \n",
            "25%      15.022500      NaN  NaN   21.000000   59.875200    1.668780   \n",
            "50%      20.500000      NaN  NaN   28.500000   70.815800    1.730000   \n",
            "75%      25.410000      NaN  NaN   46.000000   81.560000    1.800000   \n",
            "max      47.500000      NaN  NaN   81.000000  164.720000    1.970000   \n",
            "\n",
            "              Neck       Chest     Abdomen         Hip       Thigh  \\\n",
            "count   436.000000  436.000000  436.000000  436.000000  436.000000   \n",
            "unique         NaN         NaN         NaN         NaN         NaN   \n",
            "top            NaN         NaN         NaN         NaN         NaN   \n",
            "freq           NaN         NaN         NaN         NaN         NaN   \n",
            "mean     35.250917   94.158028   82.816055   98.652294   56.039679   \n",
            "std       3.837908   10.931688   14.652729    6.895034    6.194143   \n",
            "min      26.000000   43.000000   58.000000   82.500000   38.000000   \n",
            "25%      31.500000   85.500000   70.000000   94.000000   51.500000   \n",
            "50%      35.450000   93.050000   82.850000   98.300000   56.000000   \n",
            "75%      38.300000  101.425000   93.225000  102.500000   60.000000   \n",
            "max      51.200000  136.200000  148.100000  147.700000   87.300000   \n",
            "\n",
            "              Knee       Ankle      Biceps     Forearm       Wrist  \n",
            "count   436.000000  436.000000  436.000000  436.000000  436.000000  \n",
            "unique         NaN         NaN         NaN         NaN         NaN  \n",
            "top            NaN         NaN         NaN         NaN         NaN  \n",
            "freq           NaN         NaN         NaN         NaN         NaN  \n",
            "mean     37.365596   22.351835   29.897248   26.482110   17.139908  \n",
            "std       2.768403    1.780513    3.944843    3.155306    1.582291  \n",
            "min      24.700000   18.000000   20.500000   20.000000   13.500000  \n",
            "25%      35.400000   21.000000   26.950000   23.700000   16.000000  \n",
            "50%      37.500000   22.300000   29.800000   26.650000   17.300000  \n",
            "75%      39.000000   23.300000   32.625000   29.200000   18.400000  \n",
            "max      49.100000   33.900000   45.000000   34.900000   21.400000  \n",
            "\n",
            "Median values:\n",
            " BodyFat    20.5000\n",
            "Age        28.5000\n",
            "Weight     70.8158\n",
            "Height      1.7300\n",
            "Neck       35.4500\n",
            "Chest      93.0500\n",
            "Abdomen    82.8500\n",
            "Hip        98.3000\n",
            "Thigh      56.0000\n",
            "Knee       37.5000\n",
            "Ankle      22.3000\n",
            "Biceps     29.8000\n",
            "Forearm    26.6500\n",
            "Wrist      17.3000\n",
            "dtype: float64\n",
            "\n",
            "Standard Deviation:\n",
            " BodyFat     7.502125\n",
            "Age        15.500099\n",
            "Weight     15.464366\n",
            "Height      0.098359\n",
            "Neck        3.837908\n",
            "Chest      10.931688\n",
            "Abdomen    14.652729\n",
            "Hip         6.895034\n",
            "Thigh       6.194143\n",
            "Knee        2.768403\n",
            "Ankle       1.780513\n",
            "Biceps      3.944843\n",
            "Forearm     3.155306\n",
            "Wrist       1.582291\n",
            "dtype: float64\n"
          ]
        }
      ]
    },
    {
      "cell_type": "markdown",
      "source": [],
      "metadata": {
        "id": "N2-_fh485_OH"
      }
    },
    {
      "cell_type": "code",
      "source": [
        "print(\"\\nMissing Values per Column:\")\n",
        "print(df.isnull().sum())\n",
        "\n",
        "print(\"\\nTotal Missing Values in Dataset:\", df.isnull().sum().sum())\n",
        "print(\"\\nNumber of Observations:\", len(df))"
      ],
      "metadata": {
        "colab": {
          "base_uri": "https://localhost:8080/"
        },
        "id": "_1Q5Y9xe5MiM",
        "outputId": "321508fe-3424-497f-f422-9aba382be606"
      },
      "execution_count": null,
      "outputs": [
        {
          "output_type": "stream",
          "name": "stdout",
          "text": [
            "\n",
            "Missing Values per Column:\n",
            "BodyFat     0\n",
            "Original    0\n",
            "Sex         0\n",
            "Age         0\n",
            "Weight      0\n",
            "Height      0\n",
            "Neck        0\n",
            "Chest       0\n",
            "Abdomen     0\n",
            "Hip         0\n",
            "Thigh       0\n",
            "Knee        0\n",
            "Ankle       0\n",
            "Biceps      0\n",
            "Forearm     0\n",
            "Wrist       0\n",
            "dtype: int64\n",
            "\n",
            "Total Missing Values in Dataset: 0\n",
            "\n",
            "Number of Observations: 436\n"
          ]
        }
      ]
    },
    {
      "cell_type": "code",
      "source": [
        "# Convert height (inches → meters)\n",
        "df['Height_m'] = df['Height'] * 0.0254\n",
        "df['BMI'] = df['Weight'] / (df['Height_m'] ** 2)\n",
        "\n",
        "print(\"\\nDataFrame with new BMI column:\")\n",
        "print(df.head())"
      ],
      "metadata": {
        "colab": {
          "base_uri": "https://localhost:8080/"
        },
        "id": "Nv0Zlons5YPZ",
        "outputId": "54d4947a-17a4-4a81-85a0-c89a3cfed02a"
      },
      "execution_count": null,
      "outputs": [
        {
          "output_type": "stream",
          "name": "stdout",
          "text": [
            "\n",
            "DataFrame with new BMI column:\n",
            "   BodyFat Original Sex  Age  Weight  Height  Neck  Chest  Abdomen    Hip  \\\n",
            "0     12.3        Y   M   23   69.97    1.72  36.2   93.1     85.2   94.5   \n",
            "1      6.1        Y   M   22   78.59    1.84  38.5   93.6     83.0   98.7   \n",
            "2     25.3        Y   M   22   69.85    1.68  34.0   95.8     87.9   99.2   \n",
            "3     10.4        Y   M   26   83.80    1.84  37.4  101.8     86.4  101.2   \n",
            "4     28.7        Y   M   24   83.58    1.81  34.4   97.3    100.0  101.9   \n",
            "\n",
            "   Thigh  Knee  Ankle  Biceps  Forearm  Wrist  Height_m           BMI  \n",
            "0   59.0  37.3   21.9    32.0     27.4   17.1  0.043688  36659.585217  \n",
            "1   58.7  37.3   23.4    30.5     28.9   18.2  0.046736  35980.252726  \n",
            "2   59.6  38.9   24.0    28.8     25.2   16.6  0.042672  38360.160337  \n",
            "3   60.1  37.3   22.8    32.4     29.4   18.2  0.046736  38365.506788  \n",
            "4   63.2  42.2   24.0    32.2     27.7   17.7  0.045974  39543.743811  \n"
          ]
        }
      ]
    },
    {
      "cell_type": "code",
      "source": [
        "max_bmi = df['BMI'].max()\n",
        "min_bmi = df['BMI'].min()\n",
        "\n",
        "print(\"\\nMaximum BMI:\", max_bmi)\n",
        "print(\"Minimum BMI:\", min_bmi)\n",
        "\n",
        "print(\"\\nPerson with Maximum BMI:\")\n",
        "print(df.loc[df['BMI'].idxmax(), ['Height','Weight','BMI']])\n",
        "\n",
        "print(\"\\nPerson with Minimum BMI:\")\n",
        "print(df.loc[df['BMI'].idxmin(), ['Height','Weight','BMI']])"
      ],
      "metadata": {
        "colab": {
          "base_uri": "https://localhost:8080/"
        },
        "id": "X4chlw6v5gVK",
        "outputId": "02e81f51-a1d0-409b-dc74-4ade19d91ce6"
      },
      "execution_count": null,
      "outputs": [
        {
          "output_type": "stream",
          "name": "stdout",
          "text": [
            "\n",
            "Maximum BMI: 256239.62359035833\n",
            "Minimum BMI: 24491.973204089747\n",
            "\n",
            "Person with Maximum BMI:\n",
            "Height            0.75\n",
            "Weight           92.99\n",
            "BMI       256239.62359\n",
            "Name: 41, dtype: object\n",
            "\n",
            "Person with Minimum BMI:\n",
            "Height          1.7526\n",
            "Weight         48.5352\n",
            "BMI       24491.973204\n",
            "Name: 377, dtype: object\n"
          ]
        }
      ]
    },
    {
      "cell_type": "code",
      "source": [
        "plt.figure(figsize=(8,6))\n",
        "sns.scatterplot(x='Height', y='Weight', data=df, hue='BMI', palette=\"viridis\", s=60)\n",
        "plt.title(\"Height vs Weight Scatter Plot\")\n",
        "plt.xlabel(\"Height (inches)\")\n",
        "plt.ylabel(\"Weight (kg)\")\n",
        "plt.show()"
      ],
      "metadata": {
        "colab": {
          "base_uri": "https://localhost:8080/",
          "height": 250
        },
        "id": "B8bRYigO5xHr",
        "outputId": "a22f1be5-a42c-4cd6-83f4-fc5f5ef6241d"
      },
      "execution_count": null,
      "outputs": [
        {
          "output_type": "display_data",
          "data": {
            "text/plain": [
              "<Figure size 800x600 with 1 Axes>"
            ],
            "image/png": "[encoded data removed]"
          },
          "metadata": {}
        }
      ]
    }
  ]
}