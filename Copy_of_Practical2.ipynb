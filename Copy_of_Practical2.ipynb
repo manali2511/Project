{
  "nbformat": 4,
  "nbformat_minor": 0,
  "metadata": {
    "colab": {
      "provenance": [],
      "authorship_tag": "ABX9TyPX4CNItMEfvcpF3ze5sB/S",
      "include_colab_link": true
    },
    "kernelspec": {
      "name": "python3",
      "display_name": "Python 3"
    },
    "language_info": {
      "name": "python"
    }
  },
  "cells": [
    {
      "cell_type": "markdown",
      "metadata": {
        "id": "view-in-github",
        "colab_type": "text"
      },
      "source": [
        "<a href=\"https://colab.research.google.com/github/manali2511/Project/blob/main/Copy_of_Practical2.ipynb\" target=\"_parent\"><img src=\"https://colab.research.google.com/assets/colab-badge.svg\" alt=\"Open In Colab\"/></a>"
      ]
    },
    {
      "cell_type": "code",
      "execution_count": null,
      "metadata": {
        "colab": {
          "base_uri": "https://localhost:8080/"
        },
        "id": "UAn7PaEc7dgO",
        "outputId": "e85da247-98e7-42a5-aa71-eacfb6c40861"
      },
      "outputs": [
        {
          "output_type": "stream",
          "name": "stdout",
          "text": [
            "Original Array: [10 20 30 40 50]\n",
            "New Array: [ 100  400  900 1600 2500]\n"
          ]
        }
      ],
      "source": [
        "# Task 1: Square of each element\n",
        "import numpy as np\n",
        "\n",
        "arr = np.array([10, 20, 30, 40, 50])\n",
        "new_arr = arr ** 2\n",
        "\n",
        "print(\"Original Array:\", arr)\n",
        "print(\"New Array:\", new_arr)"
      ]
    },
    {
      "cell_type": "code",
      "source": [
        "# Task 2: Sum and Product\n",
        "arr = np.array([2, 3, 5, 7, 11])\n",
        "\n",
        "arr_sum = np.sum(arr)\n",
        "arr_product = np.prod(arr)\n",
        "\n",
        "print(\"Array:\", arr)\n",
        "print(\"Sum:\", arr_sum)\n",
        "print(\"Product:\", arr_product)"
      ],
      "metadata": {
        "colab": {
          "base_uri": "https://localhost:8080/"
        },
        "id": "5s2FOTpB7iel",
        "outputId": "c84ac790-8f11-4ce2-cae1-ac5a095dee70"
      },
      "execution_count": null,
      "outputs": [
        {
          "output_type": "stream",
          "name": "stdout",
          "text": [
            "Array: [ 2  3  5  7 11]\n",
            "Sum: 28\n",
            "Product: 2310\n"
          ]
        }
      ]
    },
    {
      "cell_type": "code",
      "source": [
        "# Task 3: Subtract 5 from each element\n",
        "arr = np.array([15, 25, 35, 45, 55])\n",
        "new_arr = arr - 5\n",
        "\n",
        "print(\"Original Array:\", arr)\n",
        "print(\"New Array:\", new_arr)"
      ],
      "metadata": {
        "colab": {
          "base_uri": "https://localhost:8080/"
        },
        "id": "9AAOYc0a7mwA",
        "outputId": "abac4f81-f9e1-40ad-de98-688c4cc0766c"
      },
      "execution_count": null,
      "outputs": [
        {
          "output_type": "stream",
          "name": "stdout",
          "text": [
            "Original Array: [15 25 35 45 55]\n",
            "New Array: [10 20 30 40 50]\n"
          ]
        }
      ]
    },
    {
      "cell_type": "code",
      "source": [
        "# Task 4: Create DataFrame for students\n",
        "import pandas as pd\n",
        "\n",
        "data = {\n",
        "    \"Name\": [\"Amit\", \"Sneha\", \"Ravi\", \"Priya\", \"Kiran\"],\n",
        "    \"Graduation_Percentage\": [78, 85, 90, 72, 88],\n",
        "    \"Age\": [21, 22, 23, 21, 22]\n",
        "}\n",
        "\n",
        "df = pd.DataFrame(data)\n",
        "print(\"Students DataFrame:\")\n",
        "print(df)\n",
        "\n",
        "# Average Age and Graduation Percentage\n",
        "avg_age = df[\"Age\"].mean()\n",
        "avg_percentage = df[\"Graduation_Percentage\"].mean()\n",
        "\n",
        "print(\"\\nAverage Age of Students:\", avg_age)\n",
        "print(\"Average Graduation Percentage:\", avg_percentage)\n",
        "\n",
        "# Basic Statistics\n",
        "print(\"\\nStatistical Summary:\")\n",
        "print(df.describe())"
      ],
      "metadata": {
        "colab": {
          "base_uri": "https://localhost:8080/"
        },
        "id": "oAmSyAEW7r5e",
        "outputId": "95f30108-29ef-41bd-c357-c7257560c5d6"
      },
      "execution_count": null,
      "outputs": [
        {
          "output_type": "stream",
          "name": "stdout",
          "text": [
            "Students DataFrame:\n",
            "    Name  Graduation_Percentage  Age\n",
            "0   Amit                     78   21\n",
            "1  Sneha                     85   22\n",
            "2   Ravi                     90   23\n",
            "3  Priya                     72   21\n",
            "4  Kiran                     88   22\n",
            "\n",
            "Average Age of Students: 21.8\n",
            "Average Graduation Percentage: 82.6\n",
            "\n",
            "Statistical Summary:\n",
            "       Graduation_Percentage       Age\n",
            "count                5.00000   5.00000\n",
            "mean                82.60000  21.80000\n",
            "std                  7.46994   0.83666\n",
            "min                 72.00000  21.00000\n",
            "25%                 78.00000  21.00000\n",
            "50%                 85.00000  22.00000\n",
            "75%                 88.00000  22.00000\n",
            "max                 90.00000  23.00000\n"
          ]
        }
      ]
    },
    {
      "cell_type": "code",
      "source": [
        "# Task 1: Multiply each element by 2\n",
        "import numpy as np\n",
        "\n",
        "arr = np.array([1.5, 2.5, 3.5, 4.5, 5.5])\n",
        "new_arr = arr * 2\n",
        "\n",
        "print(\"Original Array:\", arr)\n",
        "print(\"New Array:\", new_arr)"
      ],
      "metadata": {
        "colab": {
          "base_uri": "https://localhost:8080/"
        },
        "id": "0S2NKqS87xxS",
        "outputId": "c6eaf91c-4025-43f8-c86d-526f60b7aecf"
      },
      "execution_count": null,
      "outputs": [
        {
          "output_type": "stream",
          "name": "stdout",
          "text": [
            "Original Array: [1.5 2.5 3.5 4.5 5.5]\n",
            "New Array: [ 3.  5.  7.  9. 11.]\n"
          ]
        }
      ]
    },
    {
      "cell_type": "code",
      "source": [
        "# Task 2: Mean and Median\n",
        "arr = np.array([5, 10, 15, 20, 25])\n",
        "\n",
        "mean_val = np.mean(arr)\n",
        "median_val = np.median(arr)\n",
        "\n",
        "print(\"Array:\", arr)\n",
        "print(\"Mean:\", mean_val)\n",
        "print(\"Median:\", median_val)"
      ],
      "metadata": {
        "colab": {
          "base_uri": "https://localhost:8080/"
        },
        "id": "FOeMs8k18ID9",
        "outputId": "defc7e92-a158-4616-ca15-2258017f84e1"
      },
      "execution_count": null,
      "outputs": [
        {
          "output_type": "stream",
          "name": "stdout",
          "text": [
            "Array: [ 5 10 15 20 25]\n",
            "Mean: 15.0\n",
            "Median: 15.0\n"
          ]
        }
      ]
    },
    {
      "cell_type": "code",
      "source": [
        "# Task 3: Divide each element by 2\n",
        "arr = np.array([12, 14, 16, 18, 20])\n",
        "new_arr = arr / 2\n",
        "\n",
        "print(\"Original Array:\", arr)\n",
        "print(\"New Array:\", new_arr)"
      ],
      "metadata": {
        "colab": {
          "base_uri": "https://localhost:8080/"
        },
        "id": "OdjexnTy8KwY",
        "outputId": "f9d46680-60a5-4dfb-ac77-1d4751e51752"
      },
      "execution_count": null,
      "outputs": [
        {
          "output_type": "stream",
          "name": "stdout",
          "text": [
            "Original Array: [12 14 16 18 20]\n",
            "New Array: [ 6.  7.  8.  9. 10.]\n"
          ]
        }
      ]
    },
    {
      "cell_type": "code",
      "source": [
        "# Task 4: Employees DataFrame\n",
        "import pandas as pd\n",
        "\n",
        "data = {\n",
        "    \"Name\": [\"John\", \"Alice\", \"Ravi\", \"Sneha\", \"Kiran\"],\n",
        "    \"Salary\": [50000, 60000, 75000, 55000, 65000],\n",
        "    \"Experience\": [2, 5, 7, 3, 6]\n",
        "}\n",
        "\n",
        "df = pd.DataFrame(data)\n",
        "print(\"Employees DataFrame:\")\n",
        "print(df)\n",
        "\n",
        "# Total Salary\n",
        "total_salary = df[\"Salary\"].sum()\n",
        "# Average Years of Experience\n",
        "avg_exp = df[\"Experience\"].mean()\n",
        "\n",
        "print(\"\\nTotal Salary of Employees:\", total_salary)\n",
        "print(\"Average Years of Experience:\", avg_exp)\n",
        "\n",
        "# Basic Statistics\n",
        "print(\"\\nStatistical Summary:\")\n",
        "print(df.describe())"
      ],
      "metadata": {
        "colab": {
          "base_uri": "https://localhost:8080/"
        },
        "id": "IbDjLhSC8NS3",
        "outputId": "7214161f-afd6-422b-c54c-2f2719ffa9f6"
      },
      "execution_count": null,
      "outputs": [
        {
          "output_type": "stream",
          "name": "stdout",
          "text": [
            "Employees DataFrame:\n",
            "    Name  Salary  Experience\n",
            "0   John   50000           2\n",
            "1  Alice   60000           5\n",
            "2   Ravi   75000           7\n",
            "3  Sneha   55000           3\n",
            "4  Kiran   65000           6\n",
            "\n",
            "Total Salary of Employees: 305000\n",
            "Average Years of Experience: 4.6\n",
            "\n",
            "Statistical Summary:\n",
            "             Salary  Experience\n",
            "count      5.000000    5.000000\n",
            "mean   61000.000000    4.600000\n",
            "std     9617.692031    2.073644\n",
            "min    50000.000000    2.000000\n",
            "25%    55000.000000    3.000000\n",
            "50%    60000.000000    5.000000\n",
            "75%    65000.000000    6.000000\n",
            "max    75000.000000    7.000000\n"
          ]
        }
      ]
    },
    {
      "cell_type": "code",
      "source": [
        "# Task 1: Add 4 to each element\n",
        "import numpy as np\n",
        "\n",
        "arr = np.array([3, 6, 9, 12, 15])\n",
        "new_arr = arr + 4\n",
        "\n",
        "print(\"Original Array:\", arr)\n",
        "print(\"New Array:\", new_arr)"
      ],
      "metadata": {
        "colab": {
          "base_uri": "https://localhost:8080/"
        },
        "id": "s0mc4Otf8RNG",
        "outputId": "8df6e1c2-bba5-42d9-e088-37638ad6e355"
      },
      "execution_count": null,
      "outputs": [
        {
          "output_type": "stream",
          "name": "stdout",
          "text": [
            "Original Array: [ 3  6  9 12 15]\n",
            "New Array: [ 7 10 13 16 19]\n"
          ]
        }
      ]
    },
    {
      "cell_type": "code",
      "source": [
        "# Task 2: Compute weighted average\n",
        "arr = np.array([1, 2, 3, 4, 5])\n",
        "weights = np.array([0.1, 0.2, 0.3, 0.4, 0.5])\n",
        "\n",
        "weighted_avg = np.average(arr, weights=weights)\n",
        "\n",
        "print(\"Array:\", arr)\n",
        "print(\"Weights:\", weights)\n",
        "print(\"Weighted Average:\", weighted_avg)"
      ],
      "metadata": {
        "colab": {
          "base_uri": "https://localhost:8080/"
        },
        "id": "Op9i7a1z83Ug",
        "outputId": "83777f5c-a9d9-4e17-880a-2c97aa38e93f"
      },
      "execution_count": null,
      "outputs": [
        {
          "output_type": "stream",
          "name": "stdout",
          "text": [
            "Array: [1 2 3 4 5]\n",
            "Weights: [0.1 0.2 0.3 0.4 0.5]\n",
            "Weighted Average: 3.6666666666666665\n"
          ]
        }
      ]
    },
    {
      "cell_type": "code",
      "source": [
        "# Task 3: Each element half of the corresponding element\n",
        "arr = np.array([10, 20, 30, 40, 50])\n",
        "new_arr = arr / 2\n",
        "\n",
        "print(\"Original Array:\", arr)\n",
        "print(\"New Array:\", new_arr)"
      ],
      "metadata": {
        "colab": {
          "base_uri": "https://localhost:8080/"
        },
        "id": "hOUkKQ5P8625",
        "outputId": "13e31a97-8458-4f32-b014-ca8ac0a9711b"
      },
      "execution_count": null,
      "outputs": [
        {
          "output_type": "stream",
          "name": "stdout",
          "text": [
            "Original Array: [10 20 30 40 50]\n",
            "New Array: [ 5. 10. 15. 20. 25.]\n"
          ]
        }
      ]
    },
    {
      "cell_type": "code",
      "source": [
        "# Task 4: Products DataFrame\n",
        "import pandas as pd\n",
        "\n",
        "data = {\n",
        "    \"Product\": [\"Laptop\", \"Phone\", \"Tablet\", \"Monitor\", \"Keyboard\"],\n",
        "    \"Price\": [80000, 30000, 20000, 15000, 5000],\n",
        "    \"Quantity\": [10, 25, 15, 20, 30]\n",
        "}\n",
        "\n",
        "df = pd.DataFrame(data)\n",
        "print(\"Products DataFrame:\")\n",
        "print(df)\n",
        "\n",
        "# Total Quantity\n",
        "total_qty = df[\"Quantity\"].sum()\n",
        "# Average Price\n",
        "avg_price = df[\"Price\"].mean()\n",
        "\n",
        "print(\"\\nTotal Quantity of Products:\", total_qty)\n",
        "print(\"Average Price of Products:\", avg_price)\n",
        "\n",
        "# Basic Statistics\n",
        "print(\"\\nStatistical Summary:\")\n",
        "print(df.describe())"
      ],
      "metadata": {
        "colab": {
          "base_uri": "https://localhost:8080/"
        },
        "id": "-GONj8tY8-8b",
        "outputId": "45474a38-7beb-46cf-a693-0f713183c404"
      },
      "execution_count": null,
      "outputs": [
        {
          "output_type": "stream",
          "name": "stdout",
          "text": [
            "Products DataFrame:\n",
            "    Product  Price  Quantity\n",
            "0    Laptop  80000        10\n",
            "1     Phone  30000        25\n",
            "2    Tablet  20000        15\n",
            "3   Monitor  15000        20\n",
            "4  Keyboard   5000        30\n",
            "\n",
            "Total Quantity of Products: 100\n",
            "Average Price of Products: 30000.0\n",
            "\n",
            "Statistical Summary:\n",
            "              Price   Quantity\n",
            "count      5.000000   5.000000\n",
            "mean   30000.000000  20.000000\n",
            "std    29368.350311   7.905694\n",
            "min     5000.000000  10.000000\n",
            "25%    15000.000000  15.000000\n",
            "50%    20000.000000  20.000000\n",
            "75%    30000.000000  25.000000\n",
            "max    80000.000000  30.000000\n"
          ]
        }
      ]
    }
  ]
}